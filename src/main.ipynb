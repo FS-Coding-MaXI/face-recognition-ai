{
 "cells": [
  {
   "cell_type": "code",
   "execution_count": 6,
   "metadata": {},
   "outputs": [],
   "source": [
    "import numpy as np\n",
    "import os\n",
    "import cv2\n",
    "from insightface.app import FaceAnalysis"
   ]
  },
  {
   "cell_type": "markdown",
   "metadata": {},
   "source": [
    "## 1. Load and config model"
   ]
  },
  {
   "cell_type": "code",
   "execution_count": 2,
   "metadata": {},
   "outputs": [
    {
     "name": "stdout",
     "output_type": "stream",
     "text": [
      "Applied providers: ['CPUExecutionProvider'], with options: {'CPUExecutionProvider': {}}\n",
      "find model: .\\models\\buffalo_l\\1k3d68.onnx landmark_3d_68 ['None', 3, 192, 192] 0.0 1.0\n",
      "Applied providers: ['CPUExecutionProvider'], with options: {'CPUExecutionProvider': {}}\n",
      "find model: .\\models\\buffalo_l\\2d106det.onnx landmark_2d_106 ['None', 3, 192, 192] 0.0 1.0\n",
      "Applied providers: ['CPUExecutionProvider'], with options: {'CPUExecutionProvider': {}}\n",
      "find model: .\\models\\buffalo_l\\det_10g.onnx detection [1, 3, '?', '?'] 127.5 128.0\n",
      "Applied providers: ['CPUExecutionProvider'], with options: {'CPUExecutionProvider': {}}\n",
      "find model: .\\models\\buffalo_l\\genderage.onnx genderage ['None', 3, 96, 96] 0.0 1.0\n",
      "Applied providers: ['CPUExecutionProvider'], with options: {'CPUExecutionProvider': {}}\n",
      "find model: .\\models\\buffalo_l\\w600k_r50.onnx recognition ['None', 3, 112, 112] 127.5 127.5\n",
      "set det-size: (640, 640)\n"
     ]
    }
   ],
   "source": [
    "app_l = FaceAnalysis(\n",
    "    name=\"buffalo_l\",\n",
    "    root=\".\",\n",
    "    providers=[\"CPUExecutionProvider\"]\n",
    ")\n",
    "app_l.prepare(ctx_id=0, det_size=(640, 640))"
   ]
  },
  {
   "cell_type": "markdown",
   "metadata": {},
   "source": [
    "## 2. Load the image"
   ]
  },
  {
   "cell_type": "code",
   "execution_count": 17,
   "metadata": {},
   "outputs": [],
   "source": [
    "EXAMPLE_DIR = os.path.join(\"example\")\n",
    "example_files = os.listdir(EXAMPLE_DIR)"
   ]
  },
  {
   "cell_type": "code",
   "execution_count": 21,
   "metadata": {},
   "outputs": [
    {
     "name": "stdout",
     "output_type": "stream",
     "text": [
      "example (1).jpg: 27\n",
      "example (2).jpg: 32\n",
      "example (3).jpg: 22\n",
      "example (4).jpg: 26\n",
      "example (5).jpg: 25\n",
      "example (6).jpg: 30\n"
     ]
    }
   ],
   "source": [
    "for example_file in example_files:\n",
    "    image = cv2.imread(os.path.join(EXAMPLE_DIR, example_file))\n",
    "    img = cv2.resize(image.copy(), None, fx=0.2, fy=0.2)\n",
    "    results = app_l.get(img)\n",
    "    img_copy = img.copy()\n",
    "    for i in results:\n",
    "        print(example_file, i[\"age\"], sep=\": \")\n",
    "        x1, y1, x2, y2 = i[\"bbox\"].astype(int)\n",
    "        cv2.rectangle(img_copy, (x1 ,y1), (x2, y2), (0, 255), 2)\n",
    "\n",
    "        kps = i[\"kps\"].astype(int)\n",
    "        for k1, k2 in kps:\n",
    "            cv2.circle(img_copy, (k1, k2),2, (255, 255, 0), -1)\n",
    "    cv2.imshow(example_file, img_copy)\n",
    "    cv2.waitKey(0)\n",
    "    cv2.destroyAllWindows()\n",
    "    "
   ]
  },
  {
   "cell_type": "raw",
   "metadata": {},
   "source": [
    "## 3. Apply image to insightface model and get results"
   ]
  }
 ],
 "metadata": {
  "kernelspec": {
   "display_name": "Python 3 (ipykernel)",
   "language": "python",
   "name": "python3"
  },
  "language_info": {
   "codemirror_mode": {
    "name": "ipython",
    "version": 3
   },
   "file_extension": ".py",
   "mimetype": "text/x-python",
   "name": "python",
   "nbconvert_exporter": "python",
   "pygments_lexer": "ipython3",
   "version": "3.11.8"
  }
 },
 "nbformat": 4,
 "nbformat_minor": 4
}
